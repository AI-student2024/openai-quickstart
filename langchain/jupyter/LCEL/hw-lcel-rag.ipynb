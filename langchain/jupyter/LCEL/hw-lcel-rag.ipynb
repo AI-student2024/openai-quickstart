{
 "cells": [
  {
   "cell_type": "markdown",
   "id": "4bc96bee-4e33-4718-8305-4a40dd819b70",
   "metadata": {},
   "source": [
    "# **Homework**\n",
    "1. 使用其他的线上文档或离线文件，重新构建向量数据库，尝试提出3个相关问题，测试 LCEL 构建的 RAG Chain 是否能成功召回。\n",
    "2. 重新设计或在 LangChain Hub 上找一个可用的 RAG 提示词模板，测试对比两者的召回率和生成质量。"
   ]
  },
  {
   "cell_type": "code",
   "execution_count": 1,
   "id": "fd5318a1-2bb9-45bb-8206-82fcf024c4b3",
   "metadata": {},
   "outputs": [],
   "source": [
    "# 导入必要的库\n",
    "import bs4,pdfplumber\n",
    "from langchain_community.document_loaders import WebBaseLoader\n",
    "from langchain_text_splitters import RecursiveCharacterTextSplitter\n",
    "from langchain_chroma import Chroma\n",
    "\n",
    "from langchain_openai import OpenAIEmbeddings\n",
    "from langchain_core.output_parsers import StrOutputParser\n",
    "from langchain_core.runnables import RunnablePassthrough\n",
    "from langchain import hub\n",
    "from langchain_core.prompts import ChatPromptTemplate\n",
    "from langchain_openai import ChatOpenAI"
   ]
  },
  {
   "cell_type": "markdown",
   "id": "58cc4822-ae69-48d2-973b-a12667d55499",
   "metadata": {},
   "source": [
    "### **Step1 加载文档**"
   ]
  },
  {
   "cell_type": "code",
   "execution_count": 2,
   "id": "a1b5c307-a00e-442f-8fd0-f5ff964def1f",
   "metadata": {},
   "outputs": [],
   "source": [
    "# 使用pdfplumber加载本地 PDF 文档并提取文本内容\n",
    "with pdfplumber.open(\"./testdocs/drawingtest.pdf\") as pdf:\n",
    "    content = \"\"\n",
    "    for page in pdf.pages:\n",
    "        content += page.extract_text() + \"\\n\""
   ]
  },
  {
   "cell_type": "markdown",
   "id": "ed1f0e1c-1c31-4dea-8e81-a5b9dfcadc33",
   "metadata": {},
   "source": [
    "### **Step2 分割文档**"
   ]
  },
  {
   "cell_type": "code",
   "execution_count": 3,
   "id": "11c9b5d2-e40a-460d-8d54-284be49d49d2",
   "metadata": {},
   "outputs": [],
   "source": [
    "# 自定义分割器类，按 '---' 分割内容\n",
    "class QATextSplitter:\n",
    "    def split_text(self, text):\n",
    "        # 按 '---' 分割文本\n",
    "        return text.split('---')"
   ]
  },
  {
   "cell_type": "code",
   "execution_count": 4,
   "id": "1cd84729-4353-4c80-8de5-9315d35cf672",
   "metadata": {},
   "outputs": [],
   "source": [
    "# 去除多余的空行和分页符，合并换行符\n",
    "content = content.replace(\"\\n\\n\", \"\") # 去除多余的换行\n",
    "content = content.replace(\"\\x0c\", \"\")  # 去除分页符\n",
    "\n",
    "# 使用自定义文本分割器\n",
    "text_splitter = QATextSplitter()\n",
    "\n",
    "# 使用自定义分割器进行分割\n",
    "chunks = text_splitter.split_text(content)\n",
    "\n",
    "# 过滤掉空白块或仅包含空白字符的块\n",
    "qa_chunks = [chunk.strip() for chunk in chunks if chunk.strip()]"
   ]
  },
  {
   "cell_type": "code",
   "execution_count": 5,
   "id": "cc00d085-813b-4f13-9706-ae0288399d53",
   "metadata": {},
   "outputs": [
    {
     "name": "stdout",
     "output_type": "stream",
     "text": [
      "总块数: 250\n"
     ]
    }
   ],
   "source": [
    "# 打印分割后的块总数和部分内容，以便检查\n",
    "print(f\"总块数: {len(qa_chunks)}\")"
   ]
  },
  {
   "cell_type": "code",
   "execution_count": 6,
   "id": "f30ae38b-c555-45c6-a15f-ba32a42fb3c3",
   "metadata": {},
   "outputs": [
    {
     "name": "stdout",
     "output_type": "stream",
     "text": [
      "块 1 内容:\n",
      "001\n",
      "问题：你们的美术课程适合多大的孩子？\n",
      "回答：我们的美术课程专为4至10岁的孩子设计，旨在为他们提供一个有趣的艺术启蒙体\n",
      "验。\n",
      "\n",
      "块 2 内容:\n",
      "002\n",
      "问题：这门课都教些什么呢？\n",
      "回答：课程内容包括绘画、手工制作、色彩理论和艺术欣赏等，帮助孩子们全方位了解艺术。\n",
      "\n",
      "块 3 内容:\n",
      "003\n",
      "问题：授课是怎么进行的？是大班还是小班？\n",
      "回答：我们采用小班授课，注重互动与实践，让每个孩子都能得到充分的关注与指导。\n",
      "\n",
      "块 4 内容:\n",
      "004\n",
      "问题：孩子上课需要带自己的材料吗？\n",
      "回答：大部分材料由我们提供，但建议孩子自带一些基础工具，如水彩笔和素描本，以增强\n",
      "个人创作体验。\n",
      "\n",
      "块 5 内容:\n",
      "005\n",
      "问题：上课时间是什么时候？多久上一次课？\n",
      "回答：每节课通常为1.5小时，每周上一次课，具体时间可根据家长和孩子的需求进行调整。\n",
      "\n",
      "块 6 内容:\n",
      "006\n",
      "问题：老师很专业吗？有什么资格？\n",
      "回答：我们的教师均具有专业的美术教育背景，并拥有丰富的儿童艺术教学经验。\n",
      "\n",
      "块 7 内容:\n",
      "007\n",
      "问题：课程费用贵不贵？一般多少？\n",
      "回答：课程费用根据不同班级和课程时长而定，请联系我们获取详细的价格信息。\n",
      "\n",
      "块 8 内容:\n",
      "008\n",
      "问题：可以先试听一节课吗？要怎么预约？\n",
      "回答：我们欢迎家长和孩子来参加免费的试听课，您可以提前预约。\n",
      "\n",
      "块 9 内容:\n",
      "009\n",
      "问题：孩子完成课程后，可以展示自己的作品吗？\n",
      "回答：是的，我们会定期举办孩子们的作品展览，让他们有机会展示自己的创作成果。\n",
      "\n",
      "块 10 内容:\n",
      "010\n",
      "问题：如果孩子缺课，有补课的机会吗？\n",
      "回答：当然可以！我们将为缺课的孩子提供补课选项，以确保他们能够跟上进度。\n",
      "\n"
     ]
    }
   ],
   "source": [
    "# 输出分割后的块信息（打印前10个块）\n",
    "for i, chunk in enumerate(qa_chunks[:10]):\n",
    "    print(f\"块 {i+1} 内容:\\n{chunk}\\n\")\n"
   ]
  },
  {
   "cell_type": "code",
   "execution_count": 7,
   "id": "48034c67-8c70-4f52-945e-630399ac8fd1",
   "metadata": {},
   "outputs": [
    {
     "name": "stdout",
     "output_type": "stream",
     "text": [
      "最后一个块的内容:\n",
      "250\n",
      "问题：你们的课程适合未来想当艺术家的孩子吗？\n",
      "回答：非常适合！我们的课程为孩子们打下良好的艺术基础，也为未来的艺术之路奠定信心。\n"
     ]
    }
   ],
   "source": [
    "# 打印最后一个块\n",
    "print(f\"最后一个块的内容:\\n{qa_chunks[-1]}\")"
   ]
  },
  {
   "cell_type": "code",
   "execution_count": null,
   "id": "faa5c4eb-0679-4497-8212-80809e319c96",
   "metadata": {},
   "outputs": [],
   "source": []
  },
  {
   "cell_type": "markdown",
   "id": "b1746bce-beb6-4bb8-afdd-ed242bfb88b9",
   "metadata": {},
   "source": [
    "### **Step3 存储嵌入**"
   ]
  },
  {
   "cell_type": "markdown",
   "id": "1e978eb9-dcfa-4fce-82c9-0e49f1fa6be4",
   "metadata": {},
   "source": [
    "#### **使用FAISS**\n",
    "**FAISS**：与chroma类似，都是嵌入式向量数据库，由facebook提供\n",
    "<br>**API文档**: [Langchain FAISS API](https://python.langchain.com/v0.2/api_reference/community/vectorstores/langchain_community.vectorstores.faiss.FAISS.html)"
   ]
  },
  {
   "cell_type": "code",
   "execution_count": 8,
   "id": "427efee4-6b22-4b29-be8c-7ffda822c654",
   "metadata": {},
   "outputs": [],
   "source": [
    "# 使用faiss向量存储和OpenAIEmmbeddings模型将分割的文本块嵌入并存储\n",
    "from langchain.vectorstores import FAISS\n",
    "\n",
    "# 使用 FAISS.from_texts()存储\n",
    "vectorstore_faiss = FAISS.from_texts(\n",
    "    texts=qa_chunks,  # 使用分割后的文档块\n",
    "    embedding=OpenAIEmbeddings()\n",
    ")"
   ]
  },
  {
   "cell_type": "code",
   "execution_count": 9,
   "id": "adee5642-8182-4061-b46a-649adf86b24f",
   "metadata": {},
   "outputs": [
    {
     "data": {
      "text/plain": [
       "langchain_community.vectorstores.faiss.FAISS"
      ]
     },
     "execution_count": 9,
     "metadata": {},
     "output_type": "execute_result"
    }
   ],
   "source": [
    "# 查看 vectorstore_faiss 数据类型\n",
    "type(vectorstore_faiss) "
   ]
  },
  {
   "cell_type": "code",
   "execution_count": null,
   "id": "9ca6c21d-c36e-4bc1-bd84-27bfb6366e4d",
   "metadata": {},
   "outputs": [],
   "source": []
  },
  {
   "cell_type": "markdown",
   "id": "706e1c09-5780-4051-b9ca-fb337a8fa957",
   "metadata": {},
   "source": [
    "### **Step 4 检索文档**"
   ]
  },
  {
   "cell_type": "markdown",
   "id": "77dc1c3c-8617-4127-a56a-99b296f29b53",
   "metadata": {},
   "source": [
    "#### **检索FAISS库**"
   ]
  },
  {
   "cell_type": "code",
   "execution_count": 10,
   "id": "3d0346f5-b79b-4f0e-9c47-e08e4cc5ec32",
   "metadata": {},
   "outputs": [],
   "source": [
    "# 使用 VectorStoreRetriever 从向量存储中检索与查询最相关的文档\n",
    "retriever_faiss = vectorstore_faiss.as_retriever(search_type=\"similarity\", search_kwargs={\"k\": 6})"
   ]
  },
  {
   "cell_type": "code",
   "execution_count": 11,
   "id": "3337e60e-91f8-44b7-869f-e4859d4b8bde",
   "metadata": {},
   "outputs": [
    {
     "data": {
      "text/plain": [
       "langchain_core.vectorstores.base.VectorStoreRetriever"
      ]
     },
     "execution_count": 11,
     "metadata": {},
     "output_type": "execute_result"
    }
   ],
   "source": [
    "type(retriever_faiss)"
   ]
  },
  {
   "cell_type": "code",
   "execution_count": 12,
   "id": "c82f009a-78c7-4bd1-8080-334d2362c007",
   "metadata": {},
   "outputs": [],
   "source": [
    "retriever_faiss_docs = retriever_faiss.invoke(\"包含哪些课程内容？\")"
   ]
  },
  {
   "cell_type": "code",
   "execution_count": 13,
   "id": "bdac3728-93a4-4b74-a919-591edce0605f",
   "metadata": {},
   "outputs": [
    {
     "name": "stdout",
     "output_type": "stream",
     "text": [
      "6\n"
     ]
    }
   ],
   "source": [
    "# 检查检索到的文本内容\n",
    "print(len(retriever_faiss_docs))"
   ]
  },
  {
   "cell_type": "code",
   "execution_count": 14,
   "id": "1f0f68f0-8124-43b4-88a3-6b00832f38ac",
   "metadata": {},
   "outputs": [
    {
     "name": "stdout",
     "output_type": "stream",
     "text": [
      "002\n",
      "问题：这门课都教些什么呢？\n",
      "回答：课程内容包括绘画、手工制作、色彩理论和艺术欣赏等，帮助孩子们全方位了解艺术。\n"
     ]
    }
   ],
   "source": [
    "print(retriever_faiss_docs[0].page_content)"
   ]
  },
  {
   "cell_type": "markdown",
   "id": "3ac1fcdb-86bc-46b0-bda4-3b9d59830a66",
   "metadata": {},
   "source": [
    "### **Step5 生成回答**"
   ]
  },
  {
   "cell_type": "code",
   "execution_count": 15,
   "id": "b3dbe88b-7a8f-4607-8426-698a3adf3ef2",
   "metadata": {},
   "outputs": [],
   "source": [
    "# 定义 RAG 链，将用户问题与检索到的文档结合并生成答案\n",
    "llm = ChatOpenAI(model=\"gpt-4o-mini\")"
   ]
  },
  {
   "cell_type": "code",
   "execution_count": 16,
   "id": "488e8c40-a304-4538-a84e-cc8e4e7e101a",
   "metadata": {},
   "outputs": [
    {
     "name": "stderr",
     "output_type": "stream",
     "text": [
      "D:\\anacondaInstall\\envs\\langchain\\lib\\site-packages\\langchain\\hub.py:86: DeprecationWarning: The `langchainhub sdk` is deprecated.\n",
      "Please use the `langsmith sdk` instead:\n",
      "  pip install langsmith\n",
      "Use the `pull_prompt` method.\n",
      "  res_dict = client.pull_repo(owner_repo_commit)\n"
     ]
    }
   ],
   "source": [
    "# 使用 hub 模块拉取 rag 提示词模板\n",
    "prompt = hub.pull(\"rlm/rag-prompt\")"
   ]
  },
  {
   "cell_type": "code",
   "execution_count": 17,
   "id": "cf0de4c1-e389-430b-a472-521960e12b0b",
   "metadata": {},
   "outputs": [
    {
     "name": "stdout",
     "output_type": "stream",
     "text": [
      "[HumanMessagePromptTemplate(prompt=PromptTemplate(input_variables=['context', 'question'], template=\"You are an assistant for question-answering tasks. Use the following pieces of retrieved context to answer the question. If you don't know the answer, just say that you don't know. Use three sentences maximum and keep the answer concise.\\nQuestion: {question} \\nContext: {context} \\nAnswer:\"))]\n"
     ]
    }
   ],
   "source": [
    "# 打印模板\n",
    "print(prompt.messages)"
   ]
  },
  {
   "cell_type": "code",
   "execution_count": 18,
   "id": "281d2ea1-0a61-45aa-810d-6b80a7d102a2",
   "metadata": {},
   "outputs": [],
   "source": [
    "# 为 context 和 question 填充样例数据，并生成 ChatModel 可用的 Messages\n",
    "example_messages = prompt.invoke(\n",
    "    {\"context\": \"filler context\", \"question\": \"filler question\"}\n",
    ").to_messages()"
   ]
  },
  {
   "cell_type": "code",
   "execution_count": 19,
   "id": "0e55e098-5f2d-4ef6-98e2-b1a4f27fa853",
   "metadata": {},
   "outputs": [
    {
     "name": "stdout",
     "output_type": "stream",
     "text": [
      "You are an assistant for question-answering tasks. Use the following pieces of retrieved context to answer the question. If you don't know the answer, just say that you don't know. Use three sentences maximum and keep the answer concise.\n",
      "Question: filler question \n",
      "Context: filler context \n",
      "Answer:\n"
     ]
    }
   ],
   "source": [
    "# 查看提示词\n",
    "print(example_messages[0].content)"
   ]
  },
  {
   "cell_type": "code",
   "execution_count": null,
   "id": "5a072d01-60b2-46c7-a104-c8a4a3eda0e0",
   "metadata": {},
   "outputs": [],
   "source": []
  },
  {
   "cell_type": "markdown",
   "id": "7846ad49-75a0-42cf-9ba7-dd77bbfe2866",
   "metadata": {},
   "source": [
    "### **提出3个问题，测试本地文档召回情况**"
   ]
  },
  {
   "cell_type": "code",
   "execution_count": 20,
   "id": "77481679-2b1a-4524-a198-44bc440755bc",
   "metadata": {},
   "outputs": [],
   "source": [
    "# 定义格式化文档的函数\n",
    "def format_docs_faiss(docs):\n",
    "    return \"\\n\\n\".join(doc.page_content for doc in docs)"
   ]
  },
  {
   "cell_type": "code",
   "execution_count": 21,
   "id": "06bd89f9-8e8b-4651-a8b6-da26da3f12d8",
   "metadata": {},
   "outputs": [],
   "source": [
    "# 使用LCEL 构建 RAG CHAIN\n",
    "rag_chain_faiss = (\n",
    "    {\"context\":retriever_faiss | format_docs_faiss, \"question\":RunnablePassthrough()}\n",
    "    | prompt\n",
    "    | llm\n",
    "    | StrOutputParser()\n",
    ")"
   ]
  },
  {
   "cell_type": "code",
   "execution_count": 22,
   "id": "c1533fe7-893b-425a-b9a7-91f7960ae3e1",
   "metadata": {},
   "outputs": [
    {
     "name": "stdout",
     "output_type": "stream",
     "text": [
      "课程收费根据不同班级和课程时长而定，具体价格信息请与我们联系。我们也会不定期推出优惠活动，欢迎关注我们的官网或社交媒体获取最新信息。"
     ]
    }
   ],
   "source": [
    "# 流式生成回答\n",
    "for chunk in rag_chain_faiss.stream(\"课程怎么收费？\"):\n",
    "    print(chunk,end=\"\",flush=True)"
   ]
  },
  {
   "cell_type": "code",
   "execution_count": 23,
   "id": "22cdee8d-b610-4b8d-9a8e-1e02b9d03dbb",
   "metadata": {},
   "outputs": [
    {
     "name": "stdout",
     "output_type": "stream",
     "text": [
      "课程内容包括绘画、手工制作、色彩理论和艺术欣赏，帮助孩子们全方位了解艺术。此外，课程还会融入艺术史知识和跨学科内容，如科学和历史，以增强理解。学习流程包括热身练习、主题创作和作品评析分享。"
     ]
    }
   ],
   "source": [
    "for chunk in rag_chain_faiss.stream(\"课程都包含哪些内容？\"):\n",
    "    print(chunk,end=\"\",flush=True)"
   ]
  },
  {
   "cell_type": "code",
   "execution_count": 24,
   "id": "6ffc4e77-0ddd-430b-bf41-ff3157e9b0d7",
   "metadata": {},
   "outputs": [
    {
     "name": "stdout",
     "output_type": "stream",
     "text": [
      "如果孩子在学习中感到挫折，可以通过积极的反馈和鼓励来帮助他们，强调每次尝试都是成长的机会，而不必过于关注结果。同时，个别指导也可以提供，确保每位孩子都能得到适合自己的教学。"
     ]
    }
   ],
   "source": [
    "for chunk in rag_chain_faiss.stream(\"孩子学不会怎么办\"):\n",
    "    print(chunk,end=\"\",flush=True)"
   ]
  },
  {
   "cell_type": "markdown",
   "id": "8f7a7165-6ac2-480d-a6f4-4b64963db724",
   "metadata": {},
   "source": [
    "### **自定义提示词模版**"
   ]
  },
  {
   "cell_type": "code",
   "execution_count": 25,
   "id": "81eab7b0-ac22-486a-ad79-1256f746b8ab",
   "metadata": {},
   "outputs": [],
   "source": [
    "from langchain_core.prompts import PromptTemplate\n",
    "\n",
    "# 自定义提示词模版\n",
    "custom_template =\"\"\"\n",
    "请仅根据以下内容回答最后的问题。\n",
    "不要使用任何未提到的额外信息，如果找不到答案，请直接说不知道，不要尝试推测或编造答案。\n",
    "答案最多使用三句话，并保持简洁明了。\n",
    "请在回答结束时加上“谢谢提问！”。\n",
    "\n",
    "{context}\n",
    "\n",
    "问题：{question}\n",
    "\n",
    "基于以上信息的答案：\n",
    "\"\"\"\n",
    "custom_rag_prompt = PromptTemplate.from_template(custom_template)"
   ]
  },
  {
   "cell_type": "code",
   "execution_count": 26,
   "id": "6f170ed9-ace7-4955-a330-31697158d1f7",
   "metadata": {},
   "outputs": [
    {
     "name": "stdout",
     "output_type": "stream",
     "text": [
      "\n",
      "请仅根据以下内容回答最后的问题。\n",
      "不要使用任何未提到的额外信息，如果找不到答案，请直接说不知道，不要尝试推测或编造答案。\n",
      "答案最多使用三句话，并保持简洁明了。\n",
      "请在回答结束时加上“谢谢提问！”。\n",
      "\n",
      "filler context\n",
      "\n",
      "问题：filler question\n",
      "\n",
      "基于以上信息的答案：\n",
      "\n"
     ]
    }
   ],
   "source": [
    "# # 为 context 和 question 填充样例数据，生成 LLM 可用的提示词\n",
    "print(custom_rag_prompt.invoke({\"context\": \"filler context\", \"question\": \"filler question\"}).text)"
   ]
  },
  {
   "cell_type": "code",
   "execution_count": 27,
   "id": "ab86cd90-a487-4260-aedc-abef6260135f",
   "metadata": {},
   "outputs": [],
   "source": [
    "# 重新自定义 RAG Chain\n",
    "custom_rag_chain = (\n",
    "    {\"context\": retriever_faiss | format_docs_faiss, \"question\": RunnablePassthrough()}\n",
    "    | custom_rag_prompt\n",
    "    | llm\n",
    "    | StrOutputParser()\n",
    ")"
   ]
  },
  {
   "cell_type": "code",
   "execution_count": 28,
   "id": "d37d1401-03ad-4d13-8321-74bc19b9d636",
   "metadata": {},
   "outputs": [
    {
     "name": "stdout",
     "output_type": "stream",
     "text": [
      "每周上一次课。谢谢提问！"
     ]
    }
   ],
   "source": [
    "# 使用自定义prompt生成回答\n",
    "for chunk in custom_rag_chain.stream(\"每周上几次课\"):\n",
    "    print(chunk,end=\"\",flush=True)"
   ]
  },
  {
   "cell_type": "code",
   "execution_count": 29,
   "id": "9eded585-74e2-4055-871a-49b421badcb2",
   "metadata": {},
   "outputs": [
    {
     "name": "stdout",
     "output_type": "stream",
     "text": [
      "不知道。谢谢提问！"
     ]
    }
   ],
   "source": [
    "for chunk in custom_rag_chain.stream(\"中途可以退费么\"):\n",
    "    print(chunk,end=\"\",flush=True)"
   ]
  },
  {
   "cell_type": "code",
   "execution_count": 30,
   "id": "a769a62a-3683-47d1-b48e-5d5cc09bfac3",
   "metadata": {},
   "outputs": [
    {
     "name": "stdout",
     "output_type": "stream",
     "text": [
      "是的，课程中会讲述一些著名艺术家的作品，如毕加索和达利等。谢谢提问！"
     ]
    }
   ],
   "source": [
    "for chunk in custom_rag_chain.stream(\"是否会讲述大师级的作品\"):\n",
    "    print(chunk,end=\"\",flush=True)"
   ]
  }
 ],
 "metadata": {
  "kernelspec": {
   "display_name": "Python 3 (ipykernel)",
   "language": "python",
   "name": "python3"
  },
  "language_info": {
   "codemirror_mode": {
    "name": "ipython",
    "version": 3
   },
   "file_extension": ".py",
   "mimetype": "text/x-python",
   "name": "python",
   "nbconvert_exporter": "python",
   "pygments_lexer": "ipython3",
   "version": "3.10.14"
  }
 },
 "nbformat": 4,
 "nbformat_minor": 5
}
