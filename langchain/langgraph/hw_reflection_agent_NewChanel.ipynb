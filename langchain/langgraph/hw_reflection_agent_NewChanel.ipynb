{
 "cells": [
  {
   "cell_type": "markdown",
   "id": "8441c4ed-2126-4aaa-a6dd-ccd84f04cf24",
   "metadata": {},
   "source": [
    "##  **Homework** \n",
    "### **（可选）使用扩展后的 Reflection Agent 生成代码，实现在 GitHubSentinel 上新增一个信息渠道。**"
   ]
  },
  {
   "cell_type": "markdown",
   "id": "28e06a35-b8fb-4475-ac56-eef76a78e3b2",
   "metadata": {},
   "source": [
    "## 1. 环境设置\n",
    "首先，安装所需的包并设置API密钥："
   ]
  },
  {
   "cell_type": "code",
   "execution_count": 1,
   "id": "c166149b",
   "metadata": {},
   "outputs": [],
   "source": [
    "import getpass\n",
    "import os\n",
    "\n",
    "# 定义一个帮助函数来检查环境变量，如果不存在则提示用户输入\n",
    "def _set_if_undefined(var: str):\n",
    "    if not os.environ.get(var):\n",
    "        os.environ[var] = getpass.getpass(f\"请输入您的 {var}\")\n",
    "\n",
    "# 设置 OpenAI 和 Langchain API 密钥\n",
    "# _set_if_undefined(\"OPENAI_API_KEY\")\n",
    "# _set_if_undefined(\"LANGCHAIN_API_KEY\")\n",
    "# _set_if_undefined(\"TAVILY_API_KEY\")\n"
   ]
  },
  {
   "cell_type": "markdown",
   "id": "6cec8159-c202-4274-b4cb-eddfa337940a",
   "metadata": {},
   "source": [
    "## 2. LangSmith开发配置\n",
    "LangSmith能够帮助您快速发现问题并提高LangGraph项目的性能。通过LangSmith，您可以使用跟踪数据来调试、测试和监控基于LangGraph构建的LLM应用程序。"
   ]
  },
  {
   "cell_type": "code",
   "execution_count": 2,
   "id": "c231a35a-8f08-44d1-abda-5d0defd00dbc",
   "metadata": {},
   "outputs": [],
   "source": [
    "# 在 LangSmith 中添加追踪功能\n",
    "os.environ[\"LANGCHAIN_TRACING_V2\"] = \"true\"\n",
    "os.environ[\"LANGCHAIN_PROJECT\"] = \"Reflection\""
   ]
  },
  {
   "cell_type": "markdown",
   "id": "5c75943d-3e39-4765-811a-2c9a47cf3722",
   "metadata": {},
   "source": [
    "## 3. 定义多任务助手智能体\n",
    "\n",
    "我们定义了一个多任务助手智能体，能够处理多种任务，包括**文章写作**、**代码编写**和**报告撰写**。该助手会根据用户的需求，生成高质量、符合特定情境的输出。无论是在撰写引人入胜的文章、编写高效的代码，还是创建专业的报告方面，助手都能灵活应对并满足用户的期望。\n",
    "\n",
    "### System Prompt 详细解释：\n",
    "\n",
    "- **\"You are a versatile assistant capable of handling various tasks such as writing articles, coding, and report writing.\"**\n",
    "  - 这句定义了助手的角色为一个多才多艺的助手，能够处理多种类型的任务，包括写作、编程和报告撰写。\n",
    "\n",
    "- **\"Based on the user's request, your task is to create high-quality output tailored to the specific context:\"**\n",
    "  - 助手需要根据用户的具体请求和情境，生成高质量的定制化内容。\n",
    "\n",
    "#### 1. **对于文章写作**：\n",
    "\n",
    "- **\"Focus on crafting well-structured, coherent, and engaging articles. Pay attention to clarity, flow, and readability to ensure the content is compelling and easy to understand.\"**\n",
    "  - 助手在撰写文章时，注重结构合理、内容连贯和引人入胜。关注清晰度、流畅性和可读性，确保文章令人信服且易于理解。\n",
    "\n",
    "- **\"Respond to user feedback by refining the tone, style, and structure of the article.\"**\n",
    "  - 根据用户的反馈，优化文章的语气、风格和结构，使其更符合读者的期望。\n",
    "\n",
    "- **\"After revisions, always provide the complete, updated article, not just the changes.\"**\n",
    "  - 在修改后，始终提供完整的、更新后的文章，而不仅仅是改动的部分，方便用户全面了解最新内容。\n",
    "\n",
    "#### 2. **对于编程任务**：\n",
    "\n",
    "- **\"Prioritize writing clean, efficient, and well-documented code. Ensure best practices are followed, and the code is optimized for performance and scalability.\"**\n",
    "  - 助手在编写代码时，优先考虑代码的简洁、高效和良好的文档化。确保遵循最佳实践，优化代码的性能和可扩展性。\n",
    "\n",
    "- **\"Revise the entire code based on user feedback to improve functionality and efficiency.\"**\n",
    "  - 根据用户反馈，修改整个代码，以提升功能性和效率，而不仅仅是局部调整。\n",
    "\n",
    "- **\"Include code comments and explanations in Chinese.\"**\n",
    "  - 在代码中添加中文的注释和解释，增强代码的可读性和可维护性。\n",
    "\n",
    "- **\"After revisions, always provide the complete, updated code, not just the changes.\"**\n",
    "  - 修改后，始终提供完整的、更新后的代码，确保用户获取最新的完整代码版本。\n",
    "\n",
    "#### 3. **对于报告撰写**：\n",
    "\n",
    "- **\"Create structured, formal, and clear reports that effectively present information in a logical manner. Pay close attention to detail and professionalism to ensure the report meets high standards.\"**\n",
    "  - 助手在撰写报告时，注重结构化、正式化和清晰度，以逻辑的方式有效呈现信息。关注细节和专业性，确保报告达到高标准。\n",
    "\n",
    "- **\"Adjust the report's format, depth, and clarity in response to user feedback.\"**\n",
    "  - 根据用户的反馈，调整报告的格式、深度和清晰度，提升报告的质量和专业性。\n",
    "\n",
    "- **\"After revisions, always provide the complete, updated report, not just the changes.\"**\n",
    "  - 在修改后，始终提供完整的、更新后的报告，而非仅仅是改动的部分，方便用户全面了解最新内容。\n",
    "\n",
    "- **\"Output the report contents in Chinese.\"**\n",
    "  - 报告内容以中文输出，确保符合目标读者的语言需求。\n",
    "\n",
    "---\n",
    "\n",
    "通过上述设定，助手在各个任务中都能根据用户的反馈进行全面的修改和完善，始终提供完整的、更新后的内容。这不仅提升了用户体验，也确保了输出内容的连贯性和完整性，方便用户理解和应用。"
   ]
  },
  {
   "cell_type": "code",
   "execution_count": 3,
   "id": "1905a06e-af05-4691-a6ed-014be2cfaf06",
   "metadata": {},
   "outputs": [],
   "source": [
    "from langchain_core.messages import AIMessage, HumanMessage\n",
    "from langchain_core.prompts import ChatPromptTemplate, MessagesPlaceholder\n",
    "# from langchain_openai import ChatOpenAI\n",
    "from langchain_ollama.chat_models import ChatOllama"
   ]
  },
  {
   "cell_type": "markdown",
   "id": "e0fa98bb-f8ff-4b50-a4fc-69138daf7fdd",
   "metadata": {},
   "source": [
    "#### 多任务助手prompt"
   ]
  },
  {
   "cell_type": "code",
   "execution_count": 4,
   "id": "02c94052-38c7-422c-aa1f-754a530747d0",
   "metadata": {},
   "outputs": [],
   "source": [
    "multi_task_prompt = ChatPromptTemplate.from_messages(\n",
    "    [\n",
    "        (\n",
    "            \"system\",\n",
    "            \"You are a versatile assistant capable of handling various tasks such as writing articles, coding, and report writing. Based on the user's request, your task is to create high-quality output tailored to the specific context:\"\n",
    "            \"\\n\\n1. **For article writing**: Focus on crafting well-structured, coherent, and engaging articles. Pay attention to clarity, flow, and readability to ensure the content is compelling and easy to understand.\"\n",
    "            \"\\n- Respond to user feedback by refining the tone, style, and structure of the article.\"\n",
    "            \"\\n- **After revisions, always provide the complete, updated article, not just the changes.**\"\n",
    "            \"\\n\\n2. **For coding tasks**: Prioritize writing clean, efficient, and well-documented code. Ensure best practices are followed, and the code is optimized for performance and scalability.\"\n",
    "            \"\\n- Revise the **entire code** based on user feedback to improve functionality and efficiency.\"\n",
    "            \"\\n- Include code comments and explanations in Chinese.\"\n",
    "            \"\\n- **After revisions, always provide the complete, updated code, not just the changes.**\"\n",
    "            \"\\n\\n3. **For report writing**: Create structured, formal, and clear reports that effectively present information in a logical manner. Pay close attention to detail and professionalism to ensure the report meets high standards.\"\n",
    "            \"\\n- Adjust the report's format, depth, and clarity in response to user feedback.\"\n",
    "            \"\\n- **After revisions, always provide the complete, updated report, not just the changes.**\"\n",
    "            \"\\n- Output the report contents in Chinese.\",\n",
    "        ),\n",
    "        MessagesPlaceholder(variable_name=\"messages\"),\n",
    "    ]\n",
    ")\n",
    "\n"
   ]
  },
  {
   "cell_type": "code",
   "execution_count": 5,
   "id": "2f0cec14-582a-4094-9a5b-9a0a2ae04a32",
   "metadata": {},
   "outputs": [],
   "source": [
    "writer = multi_task_prompt | ChatOllama(\n",
    "    # model=\"llama3.1:8b-instruct-q8_0\",\n",
    "    model=\"llama3.1:8b-instruct-q4_0\",# 更换模型\n",
    "    max_tokens=8192,\n",
    "    temperature=1.2,\n",
    ")"
   ]
  },
  {
   "cell_type": "markdown",
   "id": "1649fca1-d7b0-4e07-921d-99ed17bf8aba",
   "metadata": {},
   "source": [
    "##### **写文章**"
   ]
  },
  {
   "cell_type": "markdown",
   "id": "4750c4d3-0272-4df8-9d04-eac52d0de1a2",
   "metadata": {},
   "source": [
    "##### **写代码**"
   ]
  },
  {
   "cell_type": "code",
   "execution_count": 6,
   "id": "d1b76a25-9d42-49ca-83e2-c8e778e16412",
   "metadata": {},
   "outputs": [
    {
     "name": "stdout",
     "output_type": "stream",
     "text": [
      "**API Data Retrieval Script**\n",
      "\n",
      "```python\n",
      "import requests\n",
      "import json\n",
      "\n",
      "class APIDataRetriever:\n",
      "    def __init__(self, api_url, auth_token):\n",
      "        self.api_url = api_url\n",
      "        self.auth_token = auth_token\n",
      "\n",
      "    def get_api_data(self, params=None):\n",
      "        \"\"\"\n",
      "        Retrieves data from the external API.\n",
      "\n",
      "        Args:\n",
      "            params (dict): Parameters for pagination and filtering.\n",
      "\n",
      "        Returns:\n",
      "            dict: JSON response from the API.\n",
      "        \"\"\"\n",
      "        headers = {\"Authorization\": f\"Bearer {self.auth_token}\"}\n",
      "        response = requests.get(self.api_url, headers=headers, params=params)\n",
      "        response.raise_for_status()  # Raise an exception for HTTP errors\n",
      "        return response.json()\n",
      "\n",
      "    def retrieve_and_save_data(self, filename, max_pages=1):\n",
      "        \"\"\"\n",
      "        Retrieves data from the API, paginates it if necessary,\n",
      "        and saves the retrieved data as a JSON file.\n",
      "\n",
      "        Args:\n",
      "            filename (str): Name of the output JSON file.\n",
      "            max_pages (int, optional): Maximum number of pages to retrieve. Defaults to 1.\n",
      "\n",
      "        Returns:\n",
      "            None\n",
      "        \"\"\"\n",
      "        page = 1\n",
      "        while page <= max_pages:\n",
      "            params = {\"page\": page}\n",
      "            data = self.get_api_data(params)\n",
      "            if 'next' not in data['meta']:\n",
      "                break  # No more pages, stop pagination\n",
      "\n",
      "            with open(f\"{filename}.json\", \"w\") as file:\n",
      "                json.dump(data, file, indent=4)\n",
      "\n",
      "            page += 1\n",
      "\n",
      "\n",
      "if __name__ == \"__main__\":\n",
      "    api_url = \"https://example.com/api/data\"\n",
      "    auth_token = \"your_authentication_token_here\"\n",
      "\n",
      "    retriever = APIDataRetriever(api_url, auth_token)\n",
      "    max_pages = 5\n",
      "    filename = \"api_data_output\"\n",
      "\n",
      "    retriever.retrieve_and_save_data(filename, max_pages)\n",
      "```\n",
      "\n",
      "This script:\n",
      "\n",
      "1. Defines a `APIDataRetriever` class to encapsulate the API interaction logic.\n",
      "2. Provides methods for retrieving data from the API (`get_api_data`) and saving it as a JSON file (`retrieve_and_save_data`).\n",
      "3. Supports pagination by iterating through pages based on the 'next' key in the response metadata.\n",
      "\n",
      "Example usage is provided at the end, showcasing how to use this script with your own API URL, authentication token, maximum number of pages to retrieve, and output filename."
     ]
    }
   ],
   "source": [
    "code = \"\"\n",
    "\n",
    "topic_code = HumanMessage(\n",
    "    content=\"Please write a Python script that retrieves data from an external API, supports pagination, and saves the retrieved data as a JSON file. The API requires an authentication token.\"\n",
    ")\n",
    "\n",
    "for chunk in writer.stream({\"messages\": [topic_code]}):\n",
    "    print(chunk.content, end=\"\")\n",
    "    code += chunk.content\n"
   ]
  },
  {
   "cell_type": "code",
   "execution_count": 7,
   "id": "576b8163-56b5-4b49-9dd3-aaf14f1566db",
   "metadata": {},
   "outputs": [
    {
     "data": {
      "text/markdown": [
       "**--------------------------【写代码】--------------------------：**\n",
       "\n",
       "```python\n",
       "**API Data Retrieval Script**\n",
       "\n",
       "```python\n",
       "import requests\n",
       "import json\n",
       "\n",
       "class APIDataRetriever:\n",
       "    def __init__(self, api_url, auth_token):\n",
       "        self.api_url = api_url\n",
       "        self.auth_token = auth_token\n",
       "\n",
       "    def get_api_data(self, params=None):\n",
       "        \"\"\"\n",
       "        Retrieves data from the external API.\n",
       "\n",
       "        Args:\n",
       "            params (dict): Parameters for pagination and filtering.\n",
       "\n",
       "        Returns:\n",
       "            dict: JSON response from the API.\n",
       "        \"\"\"\n",
       "        headers = {\"Authorization\": f\"Bearer {self.auth_token}\"}\n",
       "        response = requests.get(self.api_url, headers=headers, params=params)\n",
       "        response.raise_for_status()  # Raise an exception for HTTP errors\n",
       "        return response.json()\n",
       "\n",
       "    def retrieve_and_save_data(self, filename, max_pages=1):\n",
       "        \"\"\"\n",
       "        Retrieves data from the API, paginates it if necessary,\n",
       "        and saves the retrieved data as a JSON file.\n",
       "\n",
       "        Args:\n",
       "            filename (str): Name of the output JSON file.\n",
       "            max_pages (int, optional): Maximum number of pages to retrieve. Defaults to 1.\n",
       "\n",
       "        Returns:\n",
       "            None\n",
       "        \"\"\"\n",
       "        page = 1\n",
       "        while page <= max_pages:\n",
       "            params = {\"page\": page}\n",
       "            data = self.get_api_data(params)\n",
       "            if 'next' not in data['meta']:\n",
       "                break  # No more pages, stop pagination\n",
       "\n",
       "            with open(f\"{filename}.json\", \"w\") as file:\n",
       "                json.dump(data, file, indent=4)\n",
       "\n",
       "            page += 1\n",
       "\n",
       "\n",
       "if __name__ == \"__main__\":\n",
       "    api_url = \"https://example.com/api/data\"\n",
       "    auth_token = \"your_authentication_token_here\"\n",
       "\n",
       "    retriever = APIDataRetriever(api_url, auth_token)\n",
       "    max_pages = 5\n",
       "    filename = \"api_data_output\"\n",
       "\n",
       "    retriever.retrieve_and_save_data(filename, max_pages)\n",
       "```\n",
       "\n",
       "This script:\n",
       "\n",
       "1. Defines a `APIDataRetriever` class to encapsulate the API interaction logic.\n",
       "2. Provides methods for retrieving data from the API (`get_api_data`) and saving it as a JSON file (`retrieve_and_save_data`).\n",
       "3. Supports pagination by iterating through pages based on the 'next' key in the response metadata.\n",
       "\n",
       "Example usage is provided at the end, showcasing how to use this script with your own API URL, authentication token, maximum number of pages to retrieve, and output filename.\n",
       "```"
      ],
      "text/plain": [
       "<IPython.core.display.Markdown object>"
      ]
     },
     "metadata": {},
     "output_type": "display_data"
    }
   ],
   "source": [
    "from IPython.display import Markdown, display\n",
    "\n",
    "# 使用Markdown显示优化后的格式\n",
    "\n",
    "display(Markdown(\"**--------------------------【写代码】--------------------------：**\\n\\n```python\\n\" + code + \"\\n```\"))\n"
   ]
  },
  {
   "cell_type": "markdown",
   "id": "73fa01c1-9074-41ae-810b-450edc7261ea",
   "metadata": {},
   "source": [
    "## 4. 定义多功能审阅智能体\n",
    "\n",
    "我们将使用反思机制对用户提交的内容进行审阅，生成详细的反馈和改进建议。模型将扮演“审阅者”的角色，能够批改文章、代码以及报告等多种形式的提交，并根据具体场景提供个性化的改进意见。\n",
    "\n",
    "### System Prompt 详细解释：\n",
    "\n",
    "- **\"You are a versatile reviewer responsible for providing constructive critiques and actionable improvement suggestions based on the user's submission. Do not generate or rewrite any content; only provide feedback.\"**\n",
    "  - 模型的角色被设定为一个多功能审阅者，专门负责批改用户提交的不同类型内容。这一设定帮助模型理解其任务是提供有建设性的反馈，并根据提交的内容类型进行调整。同时，强调模型**不应生成或重写任何内容，只提供反馈**。\n",
    "\n",
    "- **具体评价维度和反馈结构**：\n",
    "  - 模型需要根据不同的提交类型，针对特定的评价维度进行评估，并将反馈组织为**优点**、**缺点**和**改进建议**三个部分。\n",
    "\n",
    "  1. **对于文章提交**：\n",
    "     - **评价维度**：\n",
    "       - **内容**：主题是否明确，信息是否准确。\n",
    "       - **结构**：文章是否有清晰的引言、主体和结论。\n",
    "       - **语言表达**：措辞是否得当，是否存在语法或拼写错误。\n",
    "       - **风格和语气**：写作风格是否适合目标读者。\n",
    "     - **反馈组织**：\n",
    "       - **优点**：突出文章的积极方面。\n",
    "       - **缺点**：指出需要改进的地方。\n",
    "       - **改进建议**：提供具体、可行的建议。\n",
    "\n",
    "  2. **对于代码提交**：\n",
    "     - **评价维度**：\n",
    "       - **功能性**：代码是否正确实现了预期的功能。\n",
    "       - **代码结构**：代码是否组织良好，模块化程度如何。\n",
    "       - **可读性**：变量命名、注释和代码风格是否有助于理解。\n",
    "       - **性能优化**：代码是否高效，是否有优化空间。\n",
    "       - **最佳实践**：是否遵循了编程语言的最佳实践。\n",
    "     - **反馈组织**：\n",
    "       - **优点**：指出代码的优秀之处。\n",
    "       - **缺点**：说明存在的问题或可以改进的地方。\n",
    "       - **改进建议**：提供具体的建议来提升代码质量。\n",
    "\n",
    "  3. **对于报告提交**：\n",
    "     - **评价维度**：\n",
    "       - **逻辑流**：信息是否按照合乎逻辑的顺序呈现。\n",
    "       - **清晰度**：观点和数据是否清晰易懂。\n",
    "       - **深度和细节**：内容是否充分，是否支持结论。\n",
    "       - **专业性**：格式、语调和细节是否符合专业标准。\n",
    "     - **反馈组织**：\n",
    "       - **优点**：突出报告的强项。\n",
    "       - **缺点**：识别需要改进的方面。\n",
    "       - **改进建议**：提供可执行的建议。\n",
    "\n",
    "- **\"In all cases, ensure your feedback is specific, detailed, and aimed only at improving the quality of the submission. Do not generate any new content.\"**\n",
    "  - 模型在所有情况下都要确保反馈**具体、详细**，并且只针对提高提交内容的质量。**不要生成任何新内容**。\n",
    "\n",
    "- **\"Remember to respond in Chinese.\"**\n",
    "  - 模型需要**用中文进行回复**，确保用户能够准确理解反馈内容。\n",
    "\n",
    "---\n",
    "\n",
    "通过上述设定，模型不仅能为每种提交提供基本反馈，还能根据具体问题提出个性化的改进建议，帮助用户在多个领域提升其输出质量。模型的反馈将更加**全面、结构化**，便于用户理解和实施改进。"
   ]
  },
  {
   "cell_type": "markdown",
   "id": "b559f816-5714-4690-b322-f650f1b25670",
   "metadata": {},
   "source": [
    "#### 多功能审阅者"
   ]
  },
  {
   "cell_type": "code",
   "execution_count": 8,
   "id": "8f5b9f9b-0d07-4390-9aeb-88da6ea4eabe",
   "metadata": {},
   "outputs": [],
   "source": [
    "reflection_prompt = ChatPromptTemplate.from_messages(\n",
    "    [\n",
    "        (\n",
    "            \"system\",\n",
    "            \"You are a versatile reviewer responsible for providing constructive critiques and actionable improvement suggestions based on the user's submission. Do not generate or rewrite any content; only provide feedback.\"\n",
    "            \"\\n\\n1. **For article submissions**: Evaluate the submission based on the following criteria:\"\n",
    "            \"\\n- **Content**: Is the topic clear and is the information accurate?\"\n",
    "            \"\\n- **Structure**: Does the article have a clear introduction, body, and conclusion?\"\n",
    "            \"\\n- **Language Expression**: Are the word choices appropriate? Are there any grammar or spelling errors?\"\n",
    "            \"\\n- **Style and Tone**: Is the writing style suitable for the intended audience?\"\n",
    "            \"\\nOrganize your feedback under the following sections:\"\n",
    "            \"\\n- **Strengths**: Highlight the positive aspects of the article.\"\n",
    "            \"\\n- **Weaknesses**: Point out areas that need improvement.\"\n",
    "            \"\\n- **Suggestions for Improvement**: Provide specific, actionable recommendations.\"\n",
    "            \"\\nDo not generate new content.\"\n",
    "            \"\\n\\n2. **For code submissions**: Evaluate based on the following criteria:\"\n",
    "            \"\\n- **Functionality**: Does the code correctly implement the intended functionality?\"\n",
    "            \"\\n- **Code Structure**: Is the code well-organized and modular?\"\n",
    "            \"\\n- **Readability**: Do variable names, comments, and code style aid understanding?\"\n",
    "            \"\\n- **Performance Optimization**: Is the code efficient? Is there room for optimization?\"\n",
    "            \"\\n- **Best Practices**: Does it follow programming language best practices?\"\n",
    "            \"\\nOrganize your feedback under the following sections:\"\n",
    "            \"\\n- **Strengths**: Point out what the code does well.\"\n",
    "            \"\\n- **Weaknesses**: Note any issues or areas for improvement.\"\n",
    "            \"\\n- **Suggestions for Improvement**: Offer specific advice to enhance code quality.\"\n",
    "            \"\\nDo not provide or rewrite any code.\"\n",
    "            \"\\n\\n3. **For report submissions**: Evaluate based on the following criteria:\"\n",
    "            \"\\n- **Logical Flow**: Is the information presented in a logical order?\"\n",
    "            \"\\n- **Clarity**: Are the points and data clearly understandable?\"\n",
    "            \"\\n- **Depth and Detail**: Is the content sufficient? Does it support the conclusions?\"\n",
    "            \"\\n- **Professionalism**: Does the format, tone, and detail meet professional standards?\"\n",
    "            \"\\nOrganize your feedback under the following sections:\"\n",
    "            \"\\n- **Strengths**: Highlight the strong points of the report.\"\n",
    "            \"\\n- **Weaknesses**: Identify aspects that need improvement.\"\n",
    "            \"\\n- **Suggestions for Improvement**: Provide actionable recommendations.\"\n",
    "            \"\\nDo not create new sections or content.\"\n",
    "            \"\\n\\nIn all cases, ensure your feedback is specific, detailed, and aimed only at improving the quality of the submission. Do not generate any new content.\"\n",
    "            \"\\n\\nRemember to respond in Chinese.\",\n",
    "        ),\n",
    "        MessagesPlaceholder(variable_name=\"messages\"),\n",
    "    ]\n",
    ")\n",
    "\n",
    "\n"
   ]
  },
  {
   "cell_type": "code",
   "execution_count": 9,
   "id": "2fad5e89-98cb-4643-90cb-254480ad8e27",
   "metadata": {},
   "outputs": [],
   "source": [
    "reflect = reflection_prompt | ChatOllama(\n",
    "    # model=\"llama3.1:8b-instruct-q8_0\",\n",
    "    model=\"llama3.1:8b-instruct-q4_0\",\n",
    "    max_tokens=8192,\n",
    "    temperature=0.2,\n",
    ")"
   ]
  },
  {
   "cell_type": "markdown",
   "id": "d3193357-14c1-434b-b4a9-c5727fcc0c0c",
   "metadata": {},
   "source": [
    "#### 生成代码的评论"
   ]
  },
  {
   "cell_type": "code",
   "execution_count": 10,
   "id": "7bd478c8-984c-4e9d-92b4-acbc28dceb56",
   "metadata": {},
   "outputs": [
    {
     "name": "stdout",
     "output_type": "stream",
     "text": [
      "**Code Review**\n",
      "\n",
      "### Strengths\n",
      "\n",
      "* The code is well-structured and organized into a class (`APIDataRetriever`), making it easy to read and understand.\n",
      "* The use of a separate method for retrieving data from the API (`get_api_data`) and another for saving the data as a JSON file (`retrieve_and_save_data`) is a good practice, separating concerns and improving maintainability.\n",
      "* The code supports pagination by checking the 'next' key in the response metadata, which is a common pattern when dealing with paginated APIs.\n",
      "\n",
      "### Weaknesses\n",
      "\n",
      "* The `get_api_data` method does not handle cases where the API returns an error or invalid data. While it raises an exception for HTTP errors using `response.raise_for_status()`, it does not check for other potential issues like JSON parsing errors.\n",
      "* In the `retrieve_and_save_data` method, the file is opened in write mode (`\"w\"`), which will overwrite any existing file with the same name. It would be better to open the file in append mode (`\"a\"`) and use a unique filename or handle duplicate filenames more robustly.\n",
      "* The script does not provide any error handling for cases where the API returns an unexpected response, such as missing keys or invalid data types.\n",
      "\n",
      "### Suggestions for Improvement\n",
      "\n",
      "1. **Error Handling**: Add try-except blocks to both `get_api_data` and `retrieve_and_save_data` methods to handle potential errors, such as JSON parsing issues or API return errors.\n",
      "2. **File Management**: Open the file in append mode (`\"a\"`), use a unique filename, or implement a more robust duplicate filename handling mechanism.\n",
      "3. **API Response Validation**: Validate the API response structure and data types before saving them to the JSON file. This will help prevent potential issues with invalid or missing data.\n",
      "\n",
      "By addressing these weaknesses and implementing additional error checking and file management improvements, you can make your script more robust and reliable for retrieving and saving data from external APIs."
     ]
    }
   ],
   "source": [
    "reflection_code = \"\"\n",
    "for chunk in reflect.stream({\"messages\": [topic_code, HumanMessage(content=code)]}):\n",
    "    print(chunk.content, end=\"\")\n",
    "    reflection_code+= chunk.content"
   ]
  },
  {
   "cell_type": "markdown",
   "id": "cb6ace72-73c7-4d7f-828f-2e41c1e16248",
   "metadata": {},
   "source": [
    "#### 生成报告的评论"
   ]
  },
  {
   "cell_type": "code",
   "execution_count": 11,
   "id": "3c616014-c9c9-4d46-be9f-87485ee750eb",
   "metadata": {},
   "outputs": [
    {
     "data": {
      "text/markdown": [
       "**--------------------------【代码点评】--------------------------：**\n",
       "\n",
       "```python\n",
       "**Code Review**\n",
       "\n",
       "### Strengths\n",
       "\n",
       "* The code is well-structured and organized into a class (`APIDataRetriever`), making it easy to read and understand.\n",
       "* The use of a separate method for retrieving data from the API (`get_api_data`) and another for saving the data as a JSON file (`retrieve_and_save_data`) is a good practice, separating concerns and improving maintainability.\n",
       "* The code supports pagination by checking the 'next' key in the response metadata, which is a common pattern when dealing with paginated APIs.\n",
       "\n",
       "### Weaknesses\n",
       "\n",
       "* The `get_api_data` method does not handle cases where the API returns an error or invalid data. While it raises an exception for HTTP errors using `response.raise_for_status()`, it does not check for other potential issues like JSON parsing errors.\n",
       "* In the `retrieve_and_save_data` method, the file is opened in write mode (`\"w\"`), which will overwrite any existing file with the same name. It would be better to open the file in append mode (`\"a\"`) and use a unique filename or handle duplicate filenames more robustly.\n",
       "* The script does not provide any error handling for cases where the API returns an unexpected response, such as missing keys or invalid data types.\n",
       "\n",
       "### Suggestions for Improvement\n",
       "\n",
       "1. **Error Handling**: Add try-except blocks to both `get_api_data` and `retrieve_and_save_data` methods to handle potential errors, such as JSON parsing issues or API return errors.\n",
       "2. **File Management**: Open the file in append mode (`\"a\"`), use a unique filename, or implement a more robust duplicate filename handling mechanism.\n",
       "3. **API Response Validation**: Validate the API response structure and data types before saving them to the JSON file. This will help prevent potential issues with invalid or missing data.\n",
       "\n",
       "By addressing these weaknesses and implementing additional error checking and file management improvements, you can make your script more robust and reliable for retrieving and saving data from external APIs.\n",
       "```"
      ],
      "text/plain": [
       "<IPython.core.display.Markdown object>"
      ]
     },
     "metadata": {},
     "output_type": "display_data"
    }
   ],
   "source": [
    "from IPython.display import Markdown, display\n",
    "\n",
    "# 使用Markdown显示优化后的格式\n",
    "display(Markdown(\"**--------------------------【代码点评】--------------------------：**\\n\\n```python\\n\" + reflection_code + \"\\n```\"))\n"
   ]
  },
  {
   "cell_type": "code",
   "execution_count": 12,
   "id": "50ad3e02",
   "metadata": {},
   "outputs": [],
   "source": [
    "from typing import Annotated  # 用于类型注解\n",
    "from langgraph.graph import END, StateGraph, START  # 导入状态图的相关常量和类\n",
    "from langgraph.graph.message import add_messages  # 用于在状态中处理消息\n",
    "from langgraph.checkpoint.memory import MemorySaver  # 内存保存机制，用于保存检查点\n",
    "from typing_extensions import TypedDict  # 用于定义带有键值对的字典类型\n",
    "\n",
    "# 定义状态类，使用TypedDict以保存消息\n",
    "class State(TypedDict):\n",
    "    messages: Annotated[list, add_messages]  # 使用注解确保消息列表使用add_messages方法处理\n",
    "\n",
    "# 异步生成节点函数：生成内容（如作文）\n",
    "# 输入状态，输出包含新生成消息的状态\n",
    "async def generation_node(state: State) -> State:\n",
    "    # 调用生成器(writer)，并将消息存储到新的状态中返回\n",
    "    return {\"messages\": [await writer.ainvoke(state['messages'])]}\n",
    "\n",
    "# 异步反思节点函数：对生成的内容进行反思和反馈\n",
    "# 输入状态，输出带有反思反馈的状态\n",
    "async def reflection_node(state: State) -> State:\n",
    "    # 创建一个消息类型映射，ai消息映射为HumanMessage，human消息映射为AIMessage\n",
    "    cls_map = {\"ai\": HumanMessage, \"human\": AIMessage}\n",
    "    \n",
    "    # 处理消息，保持用户的原始请求（第一个消息），转换其余消息的类型\n",
    "    translated = [state['messages'][0]] + [\n",
    "        cls_map[msg.type](content=msg.content) for msg in state['messages'][1:]\n",
    "    ]\n",
    "    \n",
    "    # 调用反思器(reflect)，将转换后的消息传入，获取反思结果\n",
    "    res = await reflect.ainvoke(translated)\n",
    "    \n",
    "    # 返回新的状态，其中包含反思后的消息\n",
    "    return {\"messages\": [HumanMessage(content=res.content)]}\n"
   ]
  },
  {
   "cell_type": "code",
   "execution_count": 13,
   "id": "ef78c4fb-2db3-45c0-9784-b73de4e7ab7d",
   "metadata": {},
   "outputs": [],
   "source": [
    "MAX_ROUND = 6\n",
    "\n",
    "# 定义条件函数，决定是否继续反思过程\n",
    "# 如果消息数量超过6条，则终止流程\n",
    "def should_continue(state: State):\n",
    "    if len(state[\"messages\"]) > MAX_ROUND:\n",
    "        return END  # 达到条件时，流程结束\n",
    "    return \"reflect\"  # 否则继续进入反思节点"
   ]
  },
  {
   "cell_type": "code",
   "execution_count": 14,
   "id": "2e188e5e-2327-4c78-927e-5f778fdca91e",
   "metadata": {},
   "outputs": [],
   "source": [
    "# 创建状态图，传入初始状态结构\n",
    "builder = StateGraph(State)\n",
    "\n",
    "# 在状态图中添加\"writer\"节点，节点负责生成内容\n",
    "builder.add_node(\"writer\", generation_node)\n",
    "\n",
    "# 在状态图中添加\"reflect\"节点，节点负责生成反思反馈\n",
    "builder.add_node(\"reflect\", reflection_node)\n",
    "\n",
    "# 定义起始状态到\"writer\"节点的边，从起点开始调用生成器\n",
    "builder.add_edge(START, \"writer\")\n",
    "\n",
    "\n",
    "# 在\"writer\"节点和\"reflect\"节点之间添加条件边\n",
    "# 判断是否需要继续反思，或者结束\n",
    "builder.add_conditional_edges(\"writer\", should_continue)\n",
    "\n",
    "# 添加从\"reflect\"节点回到\"writer\"节点的边，进行反复的生成-反思循环\n",
    "builder.add_edge(\"reflect\", \"writer\")\n",
    "\n",
    "# 创建内存保存机制，允许在流程中保存中间状态和检查点\n",
    "memory = MemorySaver()\n",
    "\n",
    "# 编译状态图，使用检查点机制\n",
    "graph = builder.compile(checkpointer=memory)"
   ]
  },
  {
   "cell_type": "code",
   "execution_count": null,
   "id": "38ce358b-9b0d-4297-94e2-6ed8ab7e4dbb",
   "metadata": {},
   "outputs": [],
   "source": []
  },
  {
   "cell_type": "code",
   "execution_count": 15,
   "id": "b28225cf-55bc-4cc3-8fc7-45064d224782",
   "metadata": {},
   "outputs": [
    {
     "data": {
      "image/jpeg": "[encoded data removed]",
      "text/plain": [
       "<IPython.core.display.Image object>"
      ]
     },
     "metadata": {},
     "output_type": "display_data"
    }
   ],
   "source": [
    "# 可视化图\n",
    "from IPython.display import Image, display\n",
    "\n",
    "try:\n",
    "    display(\n",
    "        Image(\n",
    "            graph.get_graph(xray=True).draw_mermaid_png()\n",
    "        )\n",
    "    )\n",
    "except Exception as e:\n",
    "    print(f\"Error generating graph: {e}\")"
   ]
  },
  {
   "cell_type": "code",
   "execution_count": 16,
   "id": "573740b6-36bb-4d47-86eb-4327e2ca6619",
   "metadata": {},
   "outputs": [],
   "source": [
    "from IPython.display import Markdown, display\n",
    "\n",
    "class StepTracker:\n",
    "    def __init__(self):\n",
    "        self.step_counter = 0  # 初始化计数器\n",
    "\n",
    "    def pretty_print_event_markdown(self, event):\n",
    "        # 增加计数器\n",
    "        self.step_counter += 1\n",
    "        # 在函数调用之前打印 step\n",
    "        display(Markdown(f\"## Round {self.step_counter}\"))\n",
    "\n",
    "        # 如果是生成写作部分\n",
    "        if 'writer' in event:\n",
    "            generate_md = \"#### 任务生成:\\n\"\n",
    "            for message in event['writer']['messages']:\n",
    "                generate_md += f\"- {message.content}\\n\"\n",
    "            display(Markdown(generate_md))\n",
    "\n",
    "        # 如果是反思评论部分\n",
    "        if 'reflect' in event:\n",
    "            reflect_md = \"#### 评论反思:\\n\"\n",
    "            for message in event['reflect']['messages']:\n",
    "                reflect_md += f\"- {message.content}\\n\"\n",
    "            display(Markdown(reflect_md))\n"
   ]
  },
  {
   "cell_type": "code",
   "execution_count": null,
   "id": "64544540-9594-4812-a66a-c019284bdf2e",
   "metadata": {},
   "outputs": [],
   "source": []
  },
  {
   "cell_type": "markdown",
   "id": "a3821af9-1e90-40e4-aa44-447950d5a441",
   "metadata": {},
   "source": [
    "#### 代码及评论"
   ]
  },
  {
   "cell_type": "code",
   "execution_count": 17,
   "id": "2a5733a5-14c2-44e3-b566-38b57980f75b",
   "metadata": {},
   "outputs": [
    {
     "data": {
      "text/markdown": [
       "## Round 1"
      ],
      "text/plain": [
       "<IPython.core.display.Markdown object>"
      ]
     },
     "metadata": {},
     "output_type": "display_data"
    },
    {
     "data": {
      "text/markdown": [
       "#### 任务生成:\n",
       "- ```python\n",
       "import requests\n",
       "import json\n",
       "\n",
       "# API基本信息\n",
       "API_URL = \"https://api.example.com/data\"\n",
       "AUTH_TOKEN = \"your-auth-token\"\n",
       "\n",
       "# 读取上次结束数据ID\n",
       "try:\n",
       "    with open(\"last_data_id.txt\", 'r') as f:\n",
       "        last_data_id = int(f.read())\n",
       "except FileNotFoundError:\n",
       "    last_data_id = None\n",
       "\n",
       "# 批次获取数量（每批20条）\n",
       "batch_size = 20\n",
       "\n",
       "# 初始化列表，存放接口结果数据\n",
       "data_list = []\n",
       "\n",
       "while True:\n",
       "    # 设置请求参数\n",
       "    params = {\n",
       "        \"limit\": batch_size,\n",
       "        \"offset\": 0 if last_data_id is None else last_data_id\n",
       "    }\n",
       "    \n",
       "    # 向API发送请求，并传递认证令牌和批次获取数量\n",
       "    headers = {\"Authorization\": f\"Bearer {AUTH_TOKEN}\"}\n",
       "    response = requests.get(API_URL, params=params, headers=headers)\n",
       "    \n",
       "    # 判断返回结果的状态码是否为200\n",
       "    if response.status_code != 200:\n",
       "        print(f\"Error! API returned status code: {response.status_code}\")\n",
       "        break\n",
       "    \n",
       "    # 将返回数据追加到列表中\n",
       "    data_list.extend(response.json()[\"data\"])\n",
       "    \n",
       "    # 取出最后一个条目的ID，以便于下次的 Offset 设定\n",
       "    last_data_id = int(response.json()[-1][\"id\"]) if response.json() else None\n",
       "    \n",
       "    # 如果所有数据已经获取完成，就跳出循环\n",
       "    if not response.json() or len(response.json()[\"data\"]) < batch_size:\n",
       "        break\n",
       "\n",
       "# 保存最后一个ID\n",
       "with open(\"last_data_id.txt\", 'w') as f:\n",
       "    f.write(str(last_data_id))\n",
       "\n",
       "# 将所有数据追加到一个列表中，以便后续的JSON序列化和保存。\n",
       "combined_data_list = [dict(i) for i in data_list]\n",
       "\n",
       "try:\n",
       "    # 使用json.dumps()将data_list中的内容转成Json，并且输出至本地文件。\n",
       "    json.dump(combined_data_list, open(\"all_data.json\", \"w\"), ensure_ascii=False)\n",
       "except Exception as e:\n",
       "    print(f\"Error! An exception has occurred: {e}\")\n",
       "\n",
       "# 打印最终完成后的提示\n",
       "print(\"Data retrieval and JSON export complete!\")\n",
       "```\n",
       "\n",
       "上述的Python脚本从外部API获取数据，然后将接收到的JSON数据写入名为“all_data.json”的文件中。要记住每次你想要获取新的一批数据，必须将`last_data_id.txt`更新为最新的ID。否则，每次都将从头获取全部数据，导致时间成本的增加（因为 API 本身有返回最大数限制）。\n"
      ],
      "text/plain": [
       "<IPython.core.display.Markdown object>"
      ]
     },
     "metadata": {},
     "output_type": "display_data"
    },
    {
     "data": {
      "text/markdown": [
       "## Round 2"
      ],
      "text/plain": [
       "<IPython.core.display.Markdown object>"
      ]
     },
     "metadata": {},
     "output_type": "display_data"
    },
    {
     "data": {
      "text/markdown": [
       "#### 评论反思:\n",
       "- **评估结果**\n",
       "\n",
       "* **内容**: 脚本清晰地描述了从外部API获取数据并保存为JSON文件的过程。\n",
       "* **结构**: 脚本逻辑清晰，使用while循环实现批次获取和保存数据。\n",
       "* **语言表达**: 脚本代码清晰易懂，没有明显的错误或不必要的复杂性。\n",
       "* **风格和语气**: 脚本风格专业，适合用于自动化任务。\n",
       "\n",
       "**强项**\n",
       "\n",
       "* 脚本实现了批次获取数据并保存为JSON文件的功能。\n",
       "* 使用try-except机制处理异常情况，确保脚本在错误时不会崩溃。\n",
       "* 脚本使用json.dump()函数将数据转换为JSON格式，并输出至本地文件。\n",
       "\n",
       "**弱项**\n",
       "\n",
       "* 脚本没有对API返回结果进行有效的错误处理。例如，如果API返回状态码不是200，则脚本会直接跳出循环，而不是尝试获取下一批数据。\n",
       "* 脚本使用硬编码的API URL和认证令牌，这可能导致安全问题。如果这些信息泄露，攻击者可以轻松获取敏感数据。\n",
       "* 脚本没有对JSON文件进行有效的错误处理。例如，如果写入JSON文件时发生错误，则脚本会直接跳出循环，而不是尝试重新写入。\n",
       "\n",
       "**改进建议**\n",
       "\n",
       "1. **添加API返回结果的错误处理机制**：在判断API返回状态码是否为200之前，应该先检查返回结果是否有效。如果返回结果无效，则应该尝试获取下一批数据。\n",
       "2. **使用环境变量或配置文件存储API URL和认证令牌**：将敏感信息硬编码到脚本中可能导致安全问题。应该使用环境变量或配置文件来存储这些信息。\n",
       "3. **添加JSON文件写入错误处理机制**：在尝试写入JSON文件时，应该先检查是否有必要的权限和资源。如果写入失败，则应该尝试重新写入。\n",
       "\n",
       "通过实施这些改进建议，可以使脚本更加健壮、安全和可靠。\n"
      ],
      "text/plain": [
       "<IPython.core.display.Markdown object>"
      ]
     },
     "metadata": {},
     "output_type": "display_data"
    },
    {
     "data": {
      "text/markdown": [
       "## Round 3"
      ],
      "text/plain": [
       "<IPython.core.display.Markdown object>"
      ]
     },
     "metadata": {},
     "output_type": "display_data"
    },
    {
     "data": {
      "text/markdown": [
       "#### 任务生成:\n",
       "- 我将采取以下行动：\n",
       "\n",
       "1. **添加API返回结果的错误处理机制**：在判断API返回状态码是否为200之前，应该先检查返回结果是否有效。如果返回结果无效，则应该尝试获取下一批数据。\n",
       "\n",
       "```python\n",
       "while True:\n",
       "    # 设置请求参数\n",
       "    params = {\n",
       "        \"limit\": batch_size,\n",
       "        \"offset\": 0 if last_data_id is None else last_data_id\n",
       "    }\n",
       "    \n",
       "    # 向API发送请求，并传递认证令牌和批次获取数量\n",
       "    headers = {\"Authorization\": f\"Bearer {AUTH_TOKEN}\"}\n",
       "    response = requests.get(API_URL, params=params, headers=headers)\n",
       "    \n",
       "    # 判断返回结果的状态码是否为200或无效的返回结果（状态码非200，但可能是401等异常状态）\n",
       "    if (response.status_code != 200) or (not response.json()):\n",
       "        print(f\"Error! API returned status code: {response.status_code}\")\n",
       "        \n",
       "        # 如果 API 无法连接，请先检查认证令牌\n",
       "        if response.status_code == 401:\n",
       "            # 这里我尝试重新获取认证令牌（因为可能用户更新了认证令牌，导致认证失效）\n",
       "            # ...\n",
       "            \n",
       "        # 不要将这个try-except放在这里，而是根据具体的异常情况放置\n",
       "        continue\n",
       "    \n",
       "    # 将返回数据追加到列表中\n",
       "    data_list.extend(response.json()[\"data\"])\n",
       "    \n",
       "    # 取出最后一个条目的ID，以便于下次的 Offset 设定\n",
       "    last_data_id = int(response.json()[-1][\"id\"]) if response.json() else None\n",
       "    \n",
       "    # 如果所有数据已经获取完成，就跳出循环\n",
       "    if not response.json() or len(response.json()[\"data\"]) < batch_size:\n",
       "        break\n",
       "```\n",
       "\n",
       "2. **使用环境变量或配置文件存储API URL和认证令牌**：将敏感信息硬编码到脚本中可能导致安全问题。应该使用环境变量或配置文件来存储这些信息。\n",
       "\n",
       "```python\n",
       "import os\n",
       "\n",
       "# API_URL = \"https://api.example.com/data\"\n",
       "# AUTH_TOKEN = os.environ[\"AUTH_TOKEN\"]\n",
       "```\n",
       "\n",
       "3. **添加JSON文件写入错误处理机制**：在尝试写入JSON文件时，应该先检查是否有必要的权限和资源。如果写入失败，则应该尝试重新写入。\n",
       "\n",
       "```python\n",
       "try:\n",
       "    json.dump(combined_data_list, open(\"all_data.json\", \"w\"), ensure_ascii=False)\n",
       "except Exception as e:\n",
       "    print(f\"Error! An exception has occurred: {e}\")\n",
       "    \n",
       "    # 如果JSON写入出错，我会先清空所有数据，然后重新写入。\n",
       "    with open(\"all_data.json\", 'r') as r, open(\"temp_all_data.json\", \"w\") as w:\n",
       "        temp_list = json.load(r)\n",
       "        \n",
       "        # 假如我发现JSON写入是因为读取问题导致的，就尝试再次从API读取，然后重新写入。\n",
       "        if not temp_list:\n",
       "            print(f\"Error! JSON read from file failed, trying to load data from API\")\n",
       "            \n",
       "            # ...\n",
       "            \n",
       "    try:\n",
       "        with open(\"temp_all_data.json\", \"w\") as f:\n",
       "            json.dump(combined_data_list, f, ensure_ascii=False)\n",
       "        \n",
       "        os.rename(\"temp_all_data.json\", \"all_data.json\")\n",
       "        \n",
       "        print(\"JSON data successfully written to file.\")\n",
       "    except Exception as e:\n",
       "        print(f\"Error! An exception has occurred: {e}\")\n",
       "```\n",
       "\n",
       "这应该解决你提到的弱项！\n"
      ],
      "text/plain": [
       "<IPython.core.display.Markdown object>"
      ]
     },
     "metadata": {},
     "output_type": "display_data"
    },
    {
     "data": {
      "text/markdown": [
       "## Round 4"
      ],
      "text/plain": [
       "<IPython.core.display.Markdown object>"
      ]
     },
     "metadata": {},
     "output_type": "display_data"
    },
    {
     "data": {
      "text/markdown": [
       "#### 评论反思:\n",
       "- **评估结果**\n",
       "\n",
       "* **内容**: 脚本清晰地描述了从外部API获取数据并保存为JSON文件的过程。\n",
       "* **结构**: 脚本逻辑清晰，使用while循环实现批次获取和保存数据。\n",
       "* **语言表达**: 脚本代码清晰易懂，没有明显的错误或不必要的复杂性。\n",
       "* **风格和语气**: 脚本风格专业，适合用于自动化任务。\n",
       "\n",
       "**强项**\n",
       "\n",
       "* 脚本实现了批次获取数据并保存为JSON文件的功能。\n",
       "* 使用try-except机制处理异常情况，确保脚本在错误时不会崩溃。\n",
       "* 脚本使用json.dump()函数将数据转换为JSON格式，并输出至本地文件。\n",
       "\n",
       "**弱项**\n",
       "\n",
       "* 脚本仍然使用硬编码的API URL和认证令牌，这可能导致安全问题。如果这些信息泄露，攻击者可以轻松获取敏感数据。\n",
       "* 脚本在写入JSON文件时，仍然没有添加有效的错误处理机制。例如，如果写入失败，则脚本会直接跳出循环，而不是尝试重新写入。\n",
       "\n",
       "**改进建议**\n",
       "\n",
       "1. **使用环境变量或配置文件存储API URL和认证令牌**：将敏感信息硬编码到脚本中可能导致安全问题。应该使用环境变量或配置文件来存储这些信息。\n",
       "2. **添加JSON文件写入错误处理机制**：在尝试写入JSON文件时，应该先检查是否有必要的权限和资源。如果写入失败，则应该尝试重新写入。\n",
       "\n",
       "你已经解决了第一个问题，但第二个问题仍然存在。建议继续改进脚本，以确保其安全性和稳定性。\n",
       "\n",
       "**额外建议**\n",
       "\n",
       "* 在使用环境变量或配置文件存储API URL和认证令牌时，请确保这些信息是加密的，避免泄露。\n",
       "* 在添加JSON文件写入错误处理机制时，请考虑使用日志记录功能，以便于跟踪脚本的执行过程和任何异常情况。\n"
      ],
      "text/plain": [
       "<IPython.core.display.Markdown object>"
      ]
     },
     "metadata": {},
     "output_type": "display_data"
    },
    {
     "data": {
      "text/markdown": [
       "## Round 5"
      ],
      "text/plain": [
       "<IPython.core.display.Markdown object>"
      ]
     },
     "metadata": {},
     "output_type": "display_data"
    },
    {
     "data": {
      "text/markdown": [
       "#### 任务生成:\n",
       "- **继续改进脚本**\n",
       "\n",
       "### 使用环境变量或配置文件存储API URL和认证令牌\n",
       "\n",
       "为了解决安全问题，我决定使用环境变量来存储API URL和认证令牌。\n",
       "\n",
       "```python\n",
       "import os\n",
       "\n",
       "# 读取环境变量中的API URL和认证令牌\n",
       "api_url = os.environ.get(\"API_URL\")\n",
       "auth_token = os.environ.get(\"AUTH_TOKEN\")\n",
       "\n",
       "if not api_url or not auth_token:\n",
       "    print(\"Error! Environment variables 'API_URL' and 'AUTH_TOKEN' are missing.\")\n",
       "else:\n",
       "    # 将读取到的环境变量使用起来即可。\n",
       "    # 这样就避免了硬编码敏感信息的问题。\n",
       "```\n",
       "\n",
       "在部署脚本时，可以通过环境变量将API URL和认证令牌传递给脚本。\n",
       "\n",
       "### 添加JSON文件写入错误处理机制\n",
       "\n",
       "为了解决第二个问题，我决定在写入JSON文件时添加一个错误处理机制，确保即使写入失败，脚本也能继续执行并尝试重新写入。\n",
       "\n",
       "```python\n",
       "try:\n",
       "    json.dump(combined_data_list, open(\"all_data.json\", \"w\"), ensure_ascii=False)\n",
       "except Exception as e:\n",
       "    print(f\"Error! An exception has occurred: {e}\")\n",
       "    \n",
       "    # 如果JSON写入出错，我会先清空所有数据，然后重新写入。\n",
       "    try:\n",
       "        with open(\"all_data.json\", 'r') as r, open(\"temp_all_data.json\", \"w\") as w:\n",
       "            temp_list = json.load(r)\n",
       "            \n",
       "            if not temp_list:\n",
       "                print(f\"Error! JSON read from file failed, trying to load data from API\")\n",
       "                \n",
       "                # ...\n",
       "                \n",
       "        try:\n",
       "            with open(\"temp_all_data.json\", \"w\") as f:\n",
       "                json.dump(combined_data_list, f, ensure_ascii=False)\n",
       "            \n",
       "            os.rename(\"temp_all_data.json\", \"all_data.json\")\n",
       "            \n",
       "            print(\"JSON data successfully written to file.\")\n",
       "        except Exception as e:\n",
       "            print(f\"Error! An exception has occurred: {e}\")\n",
       "    else:\n",
       "        try:\n",
       "            with open(\"temp_all_data.json\", \"w\") as f:\n",
       "                json.dump(combined_data_list, f, ensure_ascii=False)\n",
       "            \n",
       "            os.rename(\"temp_all_data.json\", \"all_data.json\")\n",
       "            \n",
       "            print(\"JSON data successfully written to file.\")\n",
       "        except Exception as e:\n",
       "            print(f\"Error! An exception has occurred: {e}\")\n",
       "```\n",
       "\n",
       "这应该解决了第二个问题！\n"
      ],
      "text/plain": [
       "<IPython.core.display.Markdown object>"
      ]
     },
     "metadata": {},
     "output_type": "display_data"
    },
    {
     "data": {
      "text/markdown": [
       "## Round 6"
      ],
      "text/plain": [
       "<IPython.core.display.Markdown object>"
      ]
     },
     "metadata": {},
     "output_type": "display_data"
    },
    {
     "data": {
      "text/markdown": [
       "#### 评论反思:\n",
       "- **评估结果**\n",
       "\n",
       "* **内容**: 脚本清晰地描述了从外部API获取数据并保存为JSON文件的过程，使用环境变量存储API URL和认证令牌，并添加了JSON文件写入错误处理机制。\n",
       "* **结构**: 脚本逻辑清晰，使用try-except机制处理异常情况，确保脚本在错误时不会崩溃。\n",
       "* **语言表达**: 脚本代码清晰易懂，没有明显的错误或不必要的复杂性。\n",
       "* **风格和语气**: 脚本风格专业，适合用于自动化任务。\n",
       "\n",
       "**强项**\n",
       "\n",
       "* 脚本实现了批次获取数据并保存为JSON文件的功能。\n",
       "* 使用try-except机制处理异常情况，确保脚本在错误时不会崩溃。\n",
       "* 脚本使用json.dump()函数将数据转换为JSON格式，并输出至本地文件。\n",
       "* 使用环境变量存储API URL和认证令牌，避免了硬编码敏感信息的问题。\n",
       "\n",
       "**弱项**\n",
       "\n",
       "* 脚本在写入JSON文件时，仍然没有添加有效的错误处理机制。例如，如果写入失败，则脚本会直接跳出循环，而不是尝试重新写入。\n",
       "* 脚本在清空所有数据和重新写入JSON文件时，使用了多个try-except块，这可能导致代码复杂度增加。\n",
       "\n",
       "**改进建议**\n",
       "\n",
       "1. **进一步优化错误处理机制**: 考虑使用日志记录功能，以便于跟踪脚本的执行过程和任何异常情况。\n",
       "2. **简化清空所有数据和重新写入JSON文件的逻辑**: 尝试合并多个try-except块，减少代码复杂度。\n",
       "\n",
       "你已经解决了两个问题，但仍然有改进空间。建议继续优化脚本，以确保其安全性、稳定性和性能。\n",
       "\n",
       "**额外建议**\n",
       "\n",
       "* 在使用环境变量或配置文件存储API URL和认证令牌时，请确保这些信息是加密的，避免泄露。\n",
       "* 在添加JSON文件写入错误处理机制时，请考虑使用日志记录功能，以便于跟踪脚本的执行过程和任何异常情况。\n"
      ],
      "text/plain": [
       "<IPython.core.display.Markdown object>"
      ]
     },
     "metadata": {},
     "output_type": "display_data"
    },
    {
     "data": {
      "text/markdown": [
       "## Round 7"
      ],
      "text/plain": [
       "<IPython.core.display.Markdown object>"
      ]
     },
     "metadata": {},
     "output_type": "display_data"
    },
    {
     "data": {
      "text/markdown": [
       "#### 任务生成:\n",
       "- **继续优化脚本**\n",
       "\n",
       "### 进一步优化错误处理机制\n",
       "\n",
       "为了解决剩下的问题，我决定在写入JSON文件时进一步优化错误处理机制，使用日志记录功能，以便于跟踪脚本的执行过程和任何异常情况。\n",
       "\n",
       "```python\n",
       "import logging\n",
       "\n",
       "# 初始化日志记录器\n",
       "logging.basicConfig(level=logging.INFO, format='%(asctime)s - %(levelname)s - %(message)s')\n",
       "\n",
       "try:\n",
       "    json.dump(combined_data_list, open(\"all_data.json\", \"w\"), ensure_ascii=False)\n",
       "except Exception as e:\n",
       "    logging.error(f\"Error! An exception has occurred: {e}\")\n",
       "\n",
       "    # 如果JSON写入出错，我会先清空所有数据，然后重新写入。\n",
       "    try:\n",
       "        with open(\"all_data.json\", 'r') as r, open(\"temp_all_data.json\", \"w\") as w:\n",
       "            temp_list = json.load(r)\n",
       "            \n",
       "            if not temp_list:\n",
       "                logging.error(f\"Error! JSON read from file failed.\")\n",
       "                \n",
       "                # ...\n",
       "                \n",
       "        logging.info(\"Clearing data...\")\n",
       "        \n",
       "        try:\n",
       "            with open(\"all_data.json\", 'r') as r, open(\"temp_all_data.json\", \"w\") as w:\n",
       "                json.dump(temp_list, w, ensure_ascii=False)\n",
       "            \n",
       "            os.rename(\"temp_all_data.json\", \"all_data.json\")\n",
       "            \n",
       "            logging.info(\"Data successfully written to file.\")\n",
       "        except Exception as e:\n",
       "            logging.error(f\"Error! An exception has occurred: {e}\")\n",
       "    else:\n",
       "        try:\n",
       "            with open(\"temp_all_data.json\", \"w\") as f:\n",
       "                json.dump(combined_data_list, f, ensure_ascii=False)\n",
       "            \n",
       "            os.rename(\"temp_all_data.json\", \"all_data.json\")\n",
       "            \n",
       "            logging.info(\"Data successfully written to file.\")\n",
       "        except Exception as e:\n",
       "            logging.error(f\"Error! An exception has occurred: {e}\")\n",
       "```\n",
       "\n",
       "这应该进一步优化了错误处理机制！\n"
      ],
      "text/plain": [
       "<IPython.core.display.Markdown object>"
      ]
     },
     "metadata": {},
     "output_type": "display_data"
    }
   ],
   "source": [
    "inputs_code = {\n",
    "    \"messages\": [\n",
    "        HumanMessage(content=\"请编写一段Python代码，该代码用于从外部API获取数据，并将返回的数据保存为JSON文件。该API支持分页查询，并需要传递认证令牌。\")\n",
    "    ],\n",
    "}\n",
    "\n",
    "config = {\"configurable\": {\"thread_id\": \"2\"}}\n",
    "\n",
    "# 实例化新的 StepTracker\n",
    "step_tracker_code = StepTracker()\n",
    "\n",
    "async for event in graph.astream(inputs_code, config):\n",
    "    step_tracker_code.pretty_print_event_markdown(event)\n"
   ]
  },
  {
   "cell_type": "code",
   "execution_count": null,
   "id": "10bf5de5-453e-4363-96b2-f56a164966d9",
   "metadata": {},
   "outputs": [],
   "source": []
  }
 ],
 "metadata": {
  "kernelspec": {
   "display_name": "Python 3 (ipykernel)",
   "language": "python",
   "name": "python3"
  },
  "language_info": {
   "codemirror_mode": {
    "name": "ipython",
    "version": 3
   },
   "file_extension": ".py",
   "mimetype": "text/x-python",
   "name": "python",
   "nbconvert_exporter": "python",
   "pygments_lexer": "ipython3",
   "version": "3.10.14"
  }
 },
 "nbformat": 4,
 "nbformat_minor": 5
}
