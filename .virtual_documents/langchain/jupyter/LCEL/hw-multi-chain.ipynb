


# 导入相关模块
from operator import itemgetter
from langchain_core.output_parsers import StrOutputParser
from langchain_core.prompts import ChatPromptTemplate
from langchain_openai import ChatOpenAI
from langchain_core.runnables import RunnablePassthrough


# 根据用户输入生成原始的功能需求
planner =(
ChatPromptTemplate.from_template("生成简洁、清晰的功能需求描述用于代码编写：{inputs}")
| ChatOpenAI(model="gpt-4o-mini")
| StrOutputParser()
| {"original_functional_requirements":RunnablePassthrough()}
)


# 生成python代码实现链
python_code_chain =(
ChatPromptTemplate.from_template("请生成python代码实现以下功能需求：{original_functional_requirements}")
| ChatOpenAI(model="gpt-4o-mini")
| StrOutputParser()
)


# 生成Java代码实现链
java_code_chain = (
ChatPromptTemplate.from_template("请生成java代码实现以下功能需求：{original_functional_requirements}")
| ChatOpenAI(model="gpt-4o-mini")
| StrOutputParser()
)


# 生成结果链条
responder =(
ChatPromptTemplate.from_messages(
    [ 
        ("ai","{original_functional_requirements}"),
        ("human","\n python_code:\n {python_code}\n\n java_code:\n {java_code}\n\n"),
        ("system","根据以上内容生成总结，并输出orginal_functional_requirements的内容，以及生成的代码内容"),
    ]
)
| ChatOpenAI(model="gpt-4o-mini")
| StrOutputParser()

)


# 构建输出链
final_chain =(
planner
| {
     "python_code": python_code_chain,
     "java_code": java_code_chain,
     "original_functional_requirements": itemgetter("original_functional_requirements"),
}
| responder
| StrOutputParser()

)



# invoke输出
print(final_chain.invoke({"inputs":"快速排序"}))


# 流式输出
for s in final_chain.stream({"inputs":"快速排序"}):
    print(s,end="",flush=True)












